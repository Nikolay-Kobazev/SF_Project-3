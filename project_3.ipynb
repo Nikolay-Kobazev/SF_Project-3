{
 "cells": [
  {
   "cell_type": "markdown",
   "metadata": {},
   "source": [
    "# АНАЛИЗ ПОВЕДЕНИЯ ПОЛЬЗОВАТЕЛЕЙ МОБИЛЬНОЙ ИГРЫ QUIZ FREEZE"
   ]
  },
  {
   "cell_type": "markdown",
   "metadata": {},
   "source": [
    "## ЦЕЛЬ: исследовать поведение пользователей в обновлённом приложении"
   ]
  },
  {
   "cell_type": "markdown",
   "metadata": {},
   "source": [
    "### ЗАДАЧИ:\n",
    "1. Определить, насколько обучение сокращает время прохождения этапов игры.\n",
    "2. Доказать, что успешное обучение само по себе влияет на оплату и не имеет значения то, каким этапом оно шло.\n",
    "3. Определить, насколько прозрачен процесс взаимодействия с игрой."
   ]
  },
  {
   "cell_type": "markdown",
   "metadata": {},
   "source": [
    "### КОНКРЕТНЫЕ ШАГИ:\n",
    "1. Сравнить время прохождения различных этапов для пользователей, которые завершили обучение, и пользователей, не начинавших обучение. Если показатель отличается, выяснить, насколько.\n",
    "2. Проверить, существует ли зависимость между вероятностью оплаты вопросов и количеством обучений, которые начинал или завершал пользователь. \n",
    "3. Выяснить, как часто пользователи начинают обучение после выбора уровня сложности. (Это позволит оценить прозрачность процесса взаимодействия с игрой: если пользователи после выбора уровня сложности обращаются к обучению, значит, работа с приложением непонятна.)"
   ]
  },
  {
   "cell_type": "markdown",
   "metadata": {},
   "source": [
    "#### Подготовка данных "
   ]
  },
  {
   "cell_type": "code",
   "execution_count": 1,
   "metadata": {},
   "outputs": [],
   "source": [
    "import numpy as np\n",
    "import pandas as pd\n",
    "import matplotlib.pyplot as plt\n",
    "%matplotlib inline\n",
    "\n",
    "# Читаем данные из таблиц\n",
    "events_df = pd.read_csv('data/7_4_Events.csv')\n",
    "purchase_df = pd.read_csv('data/purchase.csv')\n",
    "\n",
    "# Находим список пользователей, зарегистрировавшихся в 2018 году\n",
    "cond = (events_df.start_time>='2018-01-01') & (events_df.start_time<'2019-01-01') & (events_df.event_type=='registration')\n",
    "registered = events_df[cond]['user_id'].to_list() \n",
    "# Извлекаем пользователей, зарегистрировавшихся в 2018 году\n",
    "events_df = events_df[events_df.user_id.isin(registered)] \n",
    "events_df.start_time = pd.to_datetime(events_df.start_time, format='%Y-%m-%dT%H:%M:%S')\n",
    "purchase_df = purchase_df[purchase_df.user_id.isin(registered)]\n",
    "purchase_df.event_datetime = pd.to_datetime(purchase_df.event_datetime, format='%Y-%m-%dT%H:%M:%S')\n",
    "\n",
    "# добавим в датафрейм purchase_df столбец event_type, который будет содержать одно значение purchase\n",
    "purchase_df['event_type'] = 'purchase'\n",
    "# переименовываем столбцы id\n",
    "events_df = events_df.rename(columns={\"id\": \"event_id\"})\n",
    "purchase_df = purchase_df.rename(columns={\"id\": \"purchase_id\"})\n",
    "# объединяем датафреймы, сбрасываем индексы и сортируем по возрастанию времени\n",
    "total_events_df = pd.concat([events_df,purchase_df],sort=False)\n",
    "total_events_df = total_events_df.reset_index(drop=True).sort_values('start_time')"
   ]
  },
  {
   "cell_type": "markdown",
   "metadata": {},
   "source": [
    "#### 1. Сравнение времени прохождения различных этапов для пользователей, которые завершили обучение, и пользователей, не начинавших обучение"
   ]
  },
  {
   "cell_type": "code",
   "execution_count": 2,
   "metadata": {},
   "outputs": [
    {
     "name": "stdout",
     "output_type": "stream",
     "text": [
      "Среднее время между регистрацией и оплатой (для пользователей, прошедших обучение) :  4 days 00:30:03.247408431\n",
      "Среднее время между регистрацией и оплатой (для пользователей, не начинавших обучение) :  4 days 09:06:01.909090909\n",
      "Среднее время между регистрацией и выбор уровня сложности (для пользователей, прошедших обучение) :  0 days 07:05:36.854819357\n",
      "Среднее время между регистрацией и выбор уровня сложности (для пользователей, не начинавших обучение) :  0 days 05:15:33.122448979\n",
      "Среднее время между выбором уровня сложности и выбором пакета вопросов (для пользователей, прошедших обучение) :  0 days 00:05:18.146058732\n",
      "Среднее время между выбором уровня сложности и выбором пакета вопросов (для пользователей, не начинавших обучение) :  0 days 00:05:23.824324324\n",
      "Среднее время между выбором пакета вопросов и оплатой (для пользователей, прошедших обучение) :  3 days 17:17:59.641326883\n",
      "Среднее время между выбором пакета вопросов и оплатой (для пользователей, не начинавших обучение) :  4 days 04:49:33.590909090\n"
     ]
    }
   ],
   "source": [
    "# Список пользователей, запустивших обучение\n",
    "tutorial_start_users = total_events_df[total_events_df['event_type'] == 'tutorial_start']['user_id'].unique()\n",
    "# Список пользователей, завершивших обучение\n",
    "tutorial_finish_users = total_events_df[total_events_df['event_type'] == 'tutorial_finish']['user_id'].unique()\n",
    "# Список пользователей, не завершивших обучение\n",
    "not_finished_tutorial_users = (set(tutorial_start_users).difference(set(tutorial_finish_users)))\n",
    "# Список пользователей, не начинавших обучение\n",
    "not_started_tutorial_users = (set(total_events_df['user_id']).difference(set(tutorial_start_users)))\n",
    "\n",
    "# Выделяем df для пользователей, завершивших обучение\n",
    "finished_tutorial = total_events_df[total_events_df['user_id'].isin(tutorial_finish_users)]\n",
    "# Определяем время регистрации  \n",
    "registration_finished_tutorial = finished_tutorial[finished_tutorial['event_type'] == 'registration']\n",
    "registration_finished_tutorial = registration_finished_tutorial[['user_id', 'start_time']].rename(\n",
    "    columns={'start_time':'registration_time'})\n",
    "# Определяем время выбора уровня сложности\n",
    "level_choice_finished_tutorial = finished_tutorial[finished_tutorial['event_type'] == 'level_choice']\n",
    "level_choice_finished_tutorial = level_choice_finished_tutorial[['user_id', 'start_time']].rename(\n",
    "    columns={'start_time':'level_choice_time'})\n",
    "# Определяем время выбора пакета вопросов\n",
    "pack_choice_finished_tutorial = finished_tutorial[finished_tutorial['event_type'] == 'pack_choice']\n",
    "pack_choice_finished_tutorial = pack_choice_finished_tutorial[['user_id', 'start_time']].rename(\n",
    "    columns={'start_time':'pack_choice_time'})\n",
    "# Определяем время оплаты\n",
    "purchase_finished_tutorial = finished_tutorial[finished_tutorial['event_type'] == 'purchase']\n",
    "purchase_finished_tutorial = purchase_finished_tutorial[['user_id', 'event_datetime']].rename(\n",
    "    columns={'event_datetime':'purchase_time'})\n",
    "# Объединяем таблицы  \n",
    "merged1_finished_tutorial = registration_finished_tutorial.merge(purchase_finished_tutorial, on= 'user_id', how= 'inner')\n",
    "merged2_finished_tutorial = registration_finished_tutorial.merge(level_choice_finished_tutorial, on= 'user_id', how= 'inner')\n",
    "merged3_finished_tutorial = level_choice_finished_tutorial.merge(pack_choice_finished_tutorial, on= 'user_id', how= 'inner')\n",
    "merged4_finished_tutorial = pack_choice_finished_tutorial.merge(purchase_finished_tutorial, on= 'user_id', how= 'inner')\n",
    "\n",
    "# Выделяем df для пользователей, не начинавших обучение\n",
    "not_started_tutorial = total_events_df[total_events_df['user_id'].isin(not_started_tutorial_users)]\n",
    "# Определяем время регистрации  \n",
    "registration_not_started_tutorial = not_started_tutorial[not_started_tutorial['event_type'] == 'registration']\n",
    "registration_not_started_tutorial = registration_not_started_tutorial[['user_id', 'start_time']].rename(\n",
    "    columns={'start_time':'registration_time'})\n",
    "# Определяем время выбора уровня сложности\n",
    "level_choice_not_started_tutorial = not_started_tutorial[not_started_tutorial['event_type'] == 'level_choice']\n",
    "level_choice_not_started_tutorial = level_choice_not_started_tutorial[['user_id', 'start_time']].rename(\n",
    "    columns={'start_time':'level_choice_time'})\n",
    "# Определяем время выбора пакета вопросов\n",
    "pack_choice_not_started_tutorial = not_started_tutorial[not_started_tutorial['event_type'] == 'pack_choice']\n",
    "pack_choice_not_started_tutorial = pack_choice_not_started_tutorial[['user_id', 'start_time']].rename(\n",
    "    columns={'start_time':'pack_choice_time'})\n",
    "# Определяем время оплаты\n",
    "purchase_not_started_tutorial = not_started_tutorial[not_started_tutorial['event_type'] == 'purchase']\n",
    "purchase_not_started_tutorial = purchase_not_started_tutorial[['user_id', 'event_datetime']].rename(\n",
    "    columns={'event_datetime':'purchase_time'})\n",
    "# Объединяем таблицы  \n",
    "merged1_not_started_tutorial = registration_not_started_tutorial.merge(\n",
    "    purchase_not_started_tutorial, on= 'user_id', how= 'inner')\n",
    "merged2_not_started_tutorial = registration_not_started_tutorial.merge(\n",
    "    level_choice_not_started_tutorial, on= 'user_id', how= 'inner')\n",
    "merged3_not_started_tutorial = level_choice_not_started_tutorial.merge(\n",
    "    pack_choice_not_started_tutorial, on= 'user_id', how= 'inner')\n",
    "merged4_not_started_tutorial = pack_choice_not_started_tutorial.merge(\n",
    "    purchase_not_started_tutorial, on= 'user_id', how= 'inner')\n",
    "\n",
    "# Вычисляем разницы во времени между событиями\n",
    "merged1_finished_tutorial['timedelta'] = (merged1_finished_tutorial['purchase_time'] - merged1_finished_tutorial[\n",
    "    'registration_time'])\n",
    "print(\n",
    "    'Среднее время между регистрацией и оплатой (для пользователей, прошедших обучение) : ', \n",
    "    merged1_finished_tutorial['timedelta'].mean())\n",
    "merged1_not_started_tutorial['timedelta'] = (merged1_not_started_tutorial['purchase_time'] - merged1_not_started_tutorial[\n",
    "    'registration_time'])\n",
    "print(\n",
    "    'Среднее время между регистрацией и оплатой (для пользователей, не начинавших обучение) : ', \n",
    "    merged1_not_started_tutorial['timedelta'].mean())\n",
    "\n",
    "merged2_finished_tutorial['timedelta'] = (merged2_finished_tutorial['level_choice_time'] - merged2_finished_tutorial[\n",
    "    'registration_time'])\n",
    "print(\n",
    "    'Среднее время между регистрацией и выбор уровня сложности (для пользователей, прошедших обучение) : ', \n",
    "    merged2_finished_tutorial['timedelta'].mean())\n",
    "merged2_not_started_tutorial['timedelta'] = (merged2_not_started_tutorial['level_choice_time'] - merged2_not_started_tutorial[\n",
    "    'registration_time'])\n",
    "print(\n",
    "    'Среднее время между регистрацией и выбор уровня сложности (для пользователей, не начинавших обучение) : ', \n",
    "    merged2_not_started_tutorial['timedelta'].mean())\n",
    "\n",
    "merged3_finished_tutorial['timedelta'] = (merged3_finished_tutorial['pack_choice_time'] - merged3_finished_tutorial[\n",
    "    'level_choice_time'])\n",
    "print(\n",
    "    'Среднее время между выбором уровня сложности и выбором пакета вопросов (для пользователей, прошедших обучение) : ', \n",
    "    merged3_finished_tutorial['timedelta'].mean())\n",
    "merged3_not_started_tutorial['timedelta'] = (merged3_not_started_tutorial['pack_choice_time'] - merged3_not_started_tutorial[\n",
    "    'level_choice_time'])\n",
    "print(\n",
    "    'Среднее время между выбором уровня сложности и выбором пакета вопросов (для пользователей, не начинавших обучение) : ', \n",
    "    merged3_not_started_tutorial['timedelta'].mean())\n",
    "\n",
    "merged4_finished_tutorial['timedelta'] = (merged4_finished_tutorial['purchase_time'] - merged4_finished_tutorial[\n",
    "    'pack_choice_time'])\n",
    "print(\n",
    "    'Среднее время между выбором пакета вопросов и оплатой (для пользователей, прошедших обучение) : ', \n",
    "    merged4_finished_tutorial['timedelta'].mean())\n",
    "merged4_not_started_tutorial['timedelta'] = (merged4_not_started_tutorial['purchase_time'] - merged4_not_started_tutorial[\n",
    "    'pack_choice_time'])\n",
    "print(\n",
    "    'Среднее время между выбором пакета вопросов и оплатой (для пользователей, не начинавших обучение) : ', \n",
    "    merged4_not_started_tutorial['timedelta'].mean())"
   ]
  },
  {
   "cell_type": "code",
   "execution_count": 3,
   "metadata": {},
   "outputs": [
    {
     "data": {
      "image/png": "[encoded data removed]",
      "text/plain": [
       "<Figure size 864x360 with 1 Axes>"
      ]
     },
     "metadata": {
      "needs_background": "light"
     },
     "output_type": "display_data"
    }
   ],
   "source": [
    "# Переводим значения timedelta в часа\n",
    "timedelta1_1 = round(merged1_finished_tutorial['timedelta'].mean() / pd.Timedelta('1 hour'), 2)\n",
    "timedelta1_2 = round(merged1_not_started_tutorial['timedelta'].mean() / pd.Timedelta('1 hour'), 2)\n",
    "timedelta2_1 = round(merged2_finished_tutorial['timedelta'].mean() / pd.Timedelta('1 hour'), 2)\n",
    "timedelta2_2 = round(merged2_not_started_tutorial['timedelta'].mean() / pd.Timedelta('1 hour'), 2)\n",
    "timedelta3_1 = round(merged3_finished_tutorial['timedelta'].mean() / pd.Timedelta('1 hour'), 2)\n",
    "timedelta3_2 = round(merged3_not_started_tutorial['timedelta'].mean() / pd.Timedelta('1 hour'), 2)\n",
    "timedelta4_1 = round(merged4_finished_tutorial['timedelta'].mean() / pd.Timedelta('1 hour'), 2)\n",
    "timedelta4_2 = round(merged4_not_started_tutorial['timedelta'].mean() / pd.Timedelta('1 hour'), 2)\n",
    "# Построение визуализации\n",
    "labels = ['purchase-registration', 'level_choice-registration', 'pack_choice-level_choice', 'purchase-pack_choice']\n",
    "finished_tutorial  = [timedelta1_1, timedelta2_1, timedelta3_1, timedelta4_1]\n",
    "not_started_tutorial = [timedelta1_2, timedelta2_2, timedelta3_2, timedelta4_2]\n",
    "x = np.arange(len(labels))  \n",
    "width = 0.35 \n",
    "fig, ax = plt.subplots(figsize=(12, 5))\n",
    "rects1 = ax.bar(x - width/2, finished_tutorial, width, label='Прошедшие обучение')\n",
    "rects2 = ax.bar(x + width/2, not_started_tutorial, width, label='Не запускавшие обучение')\n",
    "ax.set_xlabel('Этапы')\n",
    "ax.set_ylabel('Время, час')\n",
    "ax.set_title('Среднее время прохождения этапов')\n",
    "ax.set_xticks(x, labels)\n",
    "ax.legend()\n",
    "ax.bar_label(rects1, padding=3)\n",
    "ax.bar_label(rects2, padding=3)\n",
    "fig.tight_layout()\n",
    "plt.show()"
   ]
  },
  {
   "cell_type": "markdown",
   "metadata": {},
   "source": [
    "##### Вывод: \n",
    "Время прохождения этапов игры пользователями зависит от того, проходили они обучение или нет. Этап от регистрации в игре, до покупки вопросов, в среднем на 8,6 часа быстрее проходят пользователи, которые прошли обучение. При том, что на обучение у них дополнительно в среднем уходит 1,83 часа, что показывает анализ этапа регистрация - выбор уровня сложности. Решение бесплатного пакета вопросов у пользователей, прошедших обучение происходит быстрее в среднем на 11,53 часа. Прохождение обучения улучшает взаимодействие пользователя с игрой и увеличивает его заинтересованность. Возможно необходимо рассмотреть вопрос о том, чтобы сделать этап обучения обязательным.  \n"
   ]
  },
  {
   "cell_type": "markdown",
   "metadata": {},
   "source": [
    "#### 2. Проверка, существует ли зависимость между вероятностью оплаты вопросов и количеством обучений, которые начинал пользователь "
   ]
  },
  {
   "cell_type": "code",
   "execution_count": 4,
   "metadata": {},
   "outputs": [
    {
     "name": "stdout",
     "output_type": "stream",
     "text": [
      "   count_start_tutorial  count_users  count_clients   CR,%\n",
      "0                     1         9103           1207  13.26\n",
      "1                     2         1589            218  13.72\n",
      "2                     3          427             51  11.94\n",
      "3                     4          221             30  13.57\n",
      "4                     5          109             16  14.68\n",
      "5                     6          116             14  12.07\n",
      "6                     7           94             12  12.77\n",
      "7                     8           86             13  15.12\n",
      "8                     9          113             17  15.04\n"
     ]
    }
   ],
   "source": [
    "# Пользователи, запустившие обучение\n",
    "start_tutorial_user = total_events_df[total_events_df['event_type'] == 'tutorial_start']\n",
    "# Считаем количество раз запуска обучения для каждого пользователя\n",
    "user_groups_count_start = start_tutorial_user.groupby(['user_id'])['event_type'].agg(\n",
    "    ['count']).sort_values('count', ascending=False).reset_index()\n",
    "\n",
    "# Пользователи, совершившие покупку вопросов (клиенты)\n",
    "paying_users = total_events_df[total_events_df['event_type'] == 'purchase']\n",
    "paying_users = paying_users['user_id']\n",
    "\n",
    "# Объединяем таблицы, для поиска клиентов\n",
    "merged_start_tutorial_clients = user_groups_count_start.merge(paying_users, on= 'user_id', how= 'inner')\n",
    "# Группируем клиентов, по количеству попыток начала обучения\n",
    "start_tutorial_clients = merged_start_tutorial_clients.groupby(['count'])['user_id'].count().reset_index()\n",
    "# Группируем пользователей, по количеству попыток начала обучения\n",
    "start_tutorial_users = user_groups_count_start.groupby(['count'])['user_id'].count().reset_index()\n",
    "\n",
    "# Переименовываем столбцы\n",
    "start_tutorial_clients = start_tutorial_clients.rename(\n",
    "    columns={'count':'count_start_tutorial', 'user_id':'count_clients'})\n",
    "start_tutorial_users = start_tutorial_users.rename(\n",
    "    columns={'count':'count_start_tutorial', 'user_id':'count_users'})\n",
    "# Объединяем таблицы\n",
    "merged_start_tutorial = start_tutorial_users.merge(start_tutorial_clients, on= 'count_start_tutorial', how= 'inner')\n",
    "merged_start_tutorial['CR,%'] = round((merged_start_tutorial['count_clients'] / merged_start_tutorial['count_users'])*100, 2)\n",
    "print(merged_start_tutorial)"
   ]
  },
  {
   "cell_type": "code",
   "execution_count": 5,
   "metadata": {},
   "outputs": [
    {
     "data": {
      "image/png": "[encoded data removed]",
      "text/plain": [
       "<Figure size 864x360 with 1 Axes>"
      ]
     },
     "metadata": {
      "needs_background": "light"
     },
     "output_type": "display_data"
    }
   ],
   "source": [
    "# Построение визуализации\n",
    "labels = merged_start_tutorial['count_start_tutorial']\n",
    "CR = merged_start_tutorial['CR,%']\n",
    "x = np.arange(len(labels))  \n",
    "fig, ax = plt.subplots(figsize=(12, 5))\n",
    "rects = ax.bar(x, CR, width, label='Процент пользователей')\n",
    "ax.set_xlabel('Число попыток начала обучения')\n",
    "ax.set_ylabel('%')\n",
    "ax.set_title('Процент пользователей, совершивших оплату, в зависимости от количества попыток начала обучения')\n",
    "ax.set_xticks(x, labels)\n",
    "ax.legend()\n",
    "ax.bar_label(rects, padding=3)\n",
    "fig.tight_layout()\n",
    "plt.show()"
   ]
  },
  {
   "cell_type": "markdown",
   "metadata": {},
   "source": [
    "##### Вывод:\n",
    "Анализ показал, что количество попыток начала обучения мало влияет на вероятность оплаты пользователей. Процент оплаты пользователями вопросов между группами, сформированными на основании числа попыток начала обучения, отличается незначительно, не более 3,2%. "
   ]
  },
  {
   "cell_type": "markdown",
   "metadata": {},
   "source": [
    "#### 3. Определение, как часто пользователи начинают обучение после выбора уровня сложности"
   ]
  },
  {
   "cell_type": "code",
   "execution_count": 6,
   "metadata": {},
   "outputs": [
    {
     "name": "stdout",
     "output_type": "stream",
     "text": [
      "Количество пользователей, которые сначала запустили обучение, потом выбрали уровень сложности:  8244\n",
      "Количество пользователей, которые сначала выбрали уровень сложности, потом начали обучение:  1386\n",
      "Процент пользователей (от выбравших уровень сложности), которые сначала выбрали уровень сложности,потом начали обучение: 16.81%\n"
     ]
    }
   ],
   "source": [
    "# Выделяем df для пользователей, запустивших обучение\n",
    "start_tutorial = total_events_df[total_events_df['user_id'].isin(tutorial_start_users)]\n",
    "# Определяем время начала обучения \n",
    "start_tutorial_time = start_tutorial[start_tutorial['event_type'] == 'tutorial_start']\n",
    "start_tutorial_time = start_tutorial_time[['user_id', 'start_time']].rename(\n",
    "    columns={'start_time':'start_tutorial_time'})\n",
    "# Определяем время выбора уровня сложности\n",
    "level_choice_time = start_tutorial[start_tutorial['event_type'] == 'level_choice']\n",
    "level_choice_time = level_choice_time[['user_id', 'start_time']].rename(\n",
    "    columns={'start_time':'level_choice_time'})\n",
    "# Объединяем таблицы  \n",
    "merged = start_tutorial_time.merge(level_choice_time, on= 'user_id', how= 'inner')\n",
    "# Вычисляем разницы во времени между событиями\n",
    "merged['timedelta'] = (merged['level_choice_time'] - merged['start_tutorial_time'])\n",
    "# Количество пользователей, которые сначала запустили обучение, потом выбрали уровень сложности\n",
    "users_tutorial_level = len(merged[merged['timedelta'] > pd.Timedelta(0)]['user_id'].unique())\n",
    "print(\n",
    "    \"Количество пользователей, которые сначала запустили обучение, потом выбрали уровень сложности: \",\n",
    "        users_tutorial_level\n",
    "    )\n",
    "# Количество пользователей, которые сначала выбрали уровень сложности, потом начали обучение\n",
    "users_level_tutorial = len(merged[merged['timedelta'] < pd.Timedelta(0)]['user_id'].unique())\n",
    "print(\n",
    "    \"Количество пользователей, которые сначала выбрали уровень сложности, потом начали обучение: \",\n",
    "        users_level_tutorial\n",
    "    )\n",
    "percent_of_level_tutorial = users_level_tutorial / len(level_choice_time['user_id'])\n",
    "print(\n",
    "    \"Процент пользователей (от выбравших уровень сложности), которые сначала выбрали уровень сложности,\"\n",
    "    \"потом начали обучение: {:.2%}\".format(\n",
    "        percent_of_level_tutorial\n",
    "    )\n",
    ")"
   ]
  },
  {
   "cell_type": "markdown",
   "metadata": {},
   "source": [
    "##### Вывод:\n",
    "Пользователи довольно часто начинают обучение после выбора уровня сложности, в 16,81% случаев. Необходима доработка приложения игры, чтобы сделать взаимодействие с ней более понятным для пользователя."
   ]
  }
 ],
 "metadata": {
  "interpreter": {
   "hash": "b89b5cfaba6639976dc87ff2fec6d58faec662063367e2c229c520fe71072417"
  },
  "kernelspec": {
   "display_name": "Python 3.10.0 64-bit",
   "language": "python",
   "name": "python3"
  },
  "language_info": {
   "codemirror_mode": {
    "name": "ipython",
    "version": 3
   },
   "file_extension": ".py",
   "mimetype": "text/x-python",
   "name": "python",
   "nbconvert_exporter": "python",
   "pygments_lexer": "ipython3",
   "version": "3.10.0"
  },
  "orig_nbformat": 4
 },
 "nbformat": 4,
 "nbformat_minor": 2
}
